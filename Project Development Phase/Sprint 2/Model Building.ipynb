{
 "cells": [
  {
   "cell_type": "markdown",
   "id": "f26f904a",
   "metadata": {},
   "source": [
    "# Team ID - PNT2022TMID18129"
   ]
  },

  {
   "cell_type": "markdown",
   "id": "b88d46ab",
   "metadata": {},
   "source": [
    "## IMPORTING THE REQUIRED LIBRARIES"
   ]
  },
  {
   "cell_type": "code",
   "execution_count": 1,
   "id": "137b913d",
   "metadata": {},
   "outputs": [],
   "source": [
    "import numpy\n",
    "import tensorflow\n",
    "from tensorflow.keras.datasets import mnist\n",
    "from tensorflow.keras.models import Sequential\n",
    "from tensorflow.keras import layers\n",
    "from tensorflow.keras.layers import Dense, Flatten\n",
    "from tensorflow.keras.layers import Conv2D\n",
    "from keras.optimizers import Adam\n",
    "from keras.utils import np_utils"
   ]
  },
  {
   "cell_type": "markdown",
   "id": "9ed705b2",
   "metadata": {},
   "source": [
    "## LOADING THE DATA"
   ]
  },
  {
   "cell_type": "code",
   "execution_count": 2,
   "id": "eb60d0e4",
   "metadata": {},
   "outputs": [],
   "source": [
    "(x_train,y_train),(x_test,y_test)=mnist.load_data()"
   ]
  },
  {
   "cell_type": "code",
   "execution_count": 3,
   "id": "1c8f8c8c",
   "metadata": {},
   "outputs": [
    {
     "name": "stdout",
     "output_type": "stream",
     "text": [
      "(60000, 28, 28)\n"
     ]
    }
   ],
   "source": [
    "print(x_train.shape)"
   ]
  },
  {
   "cell_type": "code",
   "execution_count": 4,
   "id": "a6cf131e",
   "metadata": {},
   "outputs": [
    {
     "name": "stdout",
     "output_type": "stream",
     "text": [
      "(10000, 28, 28)\n"
     ]
    }
   ],
   "source": [
    "print(x_test.shape)"
   ]
  },
  

  {
   "cell_type": "markdown",
   "id": "f26f904a",
   "metadata": {},
   "source": [
    "# MODEL BUILDING"
   ]
  },
  {
   "cell_type": "markdown",
   "id": "dddf5148",
   "metadata": {},
   "source": [
    "## ADD CNN LAYERS"
   ]
  },
  {
   "cell_type": "code",
   "execution_count": 15,
   "id": "ca26b931",
   "metadata": {},
   "outputs": [],
   "source": [
    "model=Sequential()\n",
    "model.add(Conv2D(64,(3,3),input_shape=(28,28,1),activation=\"relu\"))\n",
    "model.add(Conv2D(32,(3,3),activation='relu'))\n",
    "model.add(Flatten())\n",
    "model.add(Dense(number_of_classes,activation=\"softmax\"))"
   ]
  },
  {
   "cell_type": "markdown",
   "id": "12f23e24",
   "metadata": {},
   "source": [
    "## COMPILING THE MODEL"
   ]
  },
  {
   "cell_type": "code",
   "execution_count": 16,
   "id": "0ff9f40a",
   "metadata": {},
   "outputs": [],
   "source": [
    "model.compile(loss='categorical_crossentropy',optimizer=\"Adam\",metrics=['accuracy'])"
   ]
  },
  {
   "cell_type": "markdown",
   "id": "926502fb",
   "metadata": {},
   "source": [
    "## TRAIN THE MODEL( FITTING THE MODEL)"
   ]
  },
  {
   "cell_type": "code",
   "execution_count": 17,
   "id": "e92df3c8",
   "metadata": {},
   "outputs": [
    {
     "name": "stdout",
     "output_type": "stream",
     "text": [
      "Epoch 1/5\n",
      "1875/1875 [==============================] - 44s 23ms/step - loss: 0.2187 - accuracy: 0.9529 - val_loss: 0.1059 - val_accuracy: 0.9695\n",
      "Epoch 2/5\n",
      "1875/1875 [==============================] - 49s 26ms/step - loss: 0.0692 - accuracy: 0.9790 - val_loss: 0.0727 - val_accuracy: 0.9768\n",
      "Epoch 3/5\n",
      "1875/1875 [==============================] - 57s 30ms/step - loss: 0.0477 - accuracy: 0.9851 - val_loss: 0.0795 - val_accuracy: 0.9789\n",
      "Epoch 4/5\n",
      "1875/1875 [==============================] - 51s 27ms/step - loss: 0.0380 - accuracy: 0.9880 - val_loss: 0.1089 - val_accuracy: 0.9737\n",
      "Epoch 5/5\n",
      "1875/1875 [==============================] - 54s 29ms/step - loss: 0.0290 - accuracy: 0.9911 - val_loss: 0.1011 - val_accuracy: 0.9750\n"
     ]
    },
    {
     "data": {
      "text/plain": [
       "<keras.callbacks.History at 0x262fb140820>"
      ]
     },
     "execution_count": 17,
     "metadata": {},
     "output_type": "execute_result"
    }
   ],
   "source": [
    "model.fit(x_train,y_train,validation_data=(x_test,y_test),epochs=5,batch_size=32)\n"
   ]
  },
  {
   "cell_type": "markdown",
   "id": "5d231ffa",
   "metadata": {},
   "source": [
    "## OBSERVING THE METRICS"
   ]
  },
  {
   "cell_type": "code",
   "execution_count": 18,
   "id": "d78207f1",
   "metadata": {},
   "outputs": [],
   "source": [
    "metrics=model.evaluate(x_test,y_test,verbose=0)"
   ]
  },
  {
   "cell_type": "code",
   "execution_count": 19,
   "id": "14f9157d",
   "metadata": {},
   "outputs": [
    {
     "name": "stdout",
     "output_type": "stream",
     "text": [
      "Mertics(Test loss & Test Accuracy):\n",
      "[0.10113146156072617, 0.9750000238418579]\n"
     ]
    }
   ],
   "source": [
    "print(\"Mertics(Test loss & Test Accuracy):\")\n",
    "print(metrics)"
   ]
  },
  {
   "cell_type": "markdown",
   "id": "6ff6c44c",
   "metadata": {},
   "source": [
    "## TEST THE MODEL"
   ]
  },
  {
   "cell_type": "code",
   "execution_count": 20,
   "id": "b6c8d83a",
   "metadata": {},
   "outputs": [
    {
     "name": "stdout",
     "output_type": "stream",
     "text": [
      "1/1 [==============================] - 2s 2s/step\n",
      "[[3.19888191e-12 4.02542482e-17 9.49104084e-09 1.64026681e-09\n",
      "  2.97573560e-17 2.13253609e-13 2.46073866e-18 1.00000000e+00\n",
      "  4.85261787e-13 8.78589285e-11]\n",
      " [1.74121677e-08 6.91544200e-09 9.99999881e-01 1.39687316e-07\n",
      "  7.19655658e-14 9.23316653e-13 3.60455044e-09 2.33612690e-13\n",
      "  2.41546033e-10 9.44585339e-13]\n",
      " [1.34039135e-09 9.99970794e-01 9.41617884e-07 1.92941826e-11\n",
      "  2.51064102e-06 2.55730047e-05 9.18738419e-09 1.64685221e-09\n",
      "  1.59931517e-07 3.16654689e-13]\n",
      " [9.99978662e-01 1.20287038e-12 1.75089525e-07 1.37529484e-11\n",
      "  3.40212997e-10 4.14499102e-09 1.96628025e-05 3.89348486e-14\n",
      "  1.06599325e-08 1.56214321e-06]]\n"
     ]
    }
   ],
   "source": [
    "prediction=model.predict(x_test[:4])\n",
    "print(prediction)"
   ]
  },
  {
   "cell_type": "markdown",
   "id": "88ce6f8e",
   "metadata": {},
   "source": [
    "## OBSERVING THE METRICS"
   ]
  },
  {
   "cell_type": "code",
   "execution_count": 21,
   "id": "ba946328",
   "metadata": {},
   "outputs": [
    {
     "name": "stdout",
     "output_type": "stream",
     "text": [
      "Mertics(Test loss & Test Accuracy):\n",
      "[0.10113146156072617, 0.9750000238418579]\n"
     ]
    }
   ],
   "source": [
    "metrics=model.evaluate(x_test,y_test,verbose=0)\n",
    "print(\"Mertics(Test loss & Test Accuracy):\")\n",
    "print(metrics)"
   ]
  },
  {
   "cell_type": "markdown",
   "id": "9f99e31b",
   "metadata": {},
   "source": [
    "## TEST THE MODEL"
   ]
  },
  {
   "cell_type": "code",
   "execution_count": 22,
   "id": "342b1734",
   "metadata": {},
   "outputs": [
    {
     "name": "stdout",
     "output_type": "stream",
     "text": [
      "1/1 [==============================] - 0s 19ms/step\n",
      "[[3.19888191e-12 4.02542482e-17 9.49104084e-09 1.64026681e-09\n",
      "  2.97573560e-17 2.13253609e-13 2.46073866e-18 1.00000000e+00\n",
      "  4.85261787e-13 8.78589285e-11]\n",
      " [1.74121677e-08 6.91544200e-09 9.99999881e-01 1.39687316e-07\n",
      "  7.19655658e-14 9.23316653e-13 3.60455044e-09 2.33612690e-13\n",
      "  2.41546033e-10 9.44585339e-13]\n",
      " [1.34039135e-09 9.99970794e-01 9.41617884e-07 1.92941826e-11\n",
      "  2.51064102e-06 2.55730047e-05 9.18738419e-09 1.64685221e-09\n",
      "  1.59931517e-07 3.16654689e-13]\n",
      " [9.99978662e-01 1.20287038e-12 1.75089525e-07 1.37529484e-11\n",
      "  3.40212997e-10 4.14499102e-09 1.96628025e-05 3.89348486e-14\n",
      "  1.06599325e-08 1.56214321e-06]]\n"
     ]
    }
   ],
   "source": [
    "prediction=model.predict(x_test[:4])\n",
    "print(prediction)"
   ]
  },
  {
   "cell_type": "markdown",
   "id": "b214ad93",
   "metadata": {},
   "source": [
    "## SAVE THE MODEL"
   ]
  },
  {
   "cell_type": "code",
   "execution_count": 23,
   "id": "a0cc88a4",
   "metadata": {},
   "outputs": [],
   "source": [
    "model.save('models/mnistCNN.h5')"
   ]
  },
  {
   "cell_type": "markdown",
   "id": "b1b4d33f",
   "metadata": {},
   "source": [
    "## TEST WITH THE SAVED MODEL"
   ]
  },
  {
   "cell_type": "code",
   "execution_count": 27,
   "id": "6eac28e5",
   "metadata": {},
   "outputs": [],
   "source": [
    "from tensorflow.keras.models import load_model\n",
    "model=load_model(r'C:\\Users\\meena\\models\\mnistCNN.h5')\n"
   ]
  },
  {
   "cell_type": "code",
   "execution_count": 28,
   "id": "e5d45dde",
   "metadata": {},
   "outputs": [],
   "source": [
    "from PIL import Image\n",
    "import numpy as np"
   ]
  },
  {
   "cell_type": "code",
   "execution_count": 30,
   "id": "d87039c5",
   "metadata": {},
   "outputs": [
    {
     "name": "stdout",
     "output_type": "stream",
     "text": [
      "1/1 [==============================] - 0s 43ms/step\n",
      "[[0.10841566 0.12407556 0.10467492 0.11038405 0.10014889 0.09499744\n",
      "  0.11055182 0.08980202 0.0652207  0.09172902]]\n",
      "1/1 [==============================] - 0s 17ms/step\n",
      "[[0.09725864 0.11159753 0.0982668  0.09654304 0.0973888  0.09526405\n",
      "  0.0975828  0.10167139 0.10338041 0.10104661]]\n",
      "1/1 [==============================] - 0s 16ms/step\n",
      "[[0.09728516 0.11177601 0.09809107 0.09665568 0.09739827 0.09523997\n",
      "  0.09752914 0.1015369  0.10340285 0.10108501]]\n",
      "1/1 [==============================] - 0s 15ms/step\n",
      "[[0.0844951  0.09609288 0.11283562 0.09120862 0.09871554 0.09917869\n",
      "  0.0905946  0.08719209 0.10847224 0.13121456]]\n"
     ]
    }
   ],
   "source": [
    "for index in range(4):\n",
    "    img=Image.open('C:/Users/meena/'+str(index)+'.png').convert(\"L\")\n",
    "    img=img.resize((28,28))\n",
    "    im2arr=np.array(img)\n",
    "    im2arr=im2arr.reshape(1,28,28,1)\n",
    "    y_pred=model.predict(im2arr)\n",
    "    print(y_pred)"
   ]
  },
  {
   "cell_type": "code",
   "execution_count": null,
   "id": "f89969ed",
   "metadata": {},
   "outputs": [],
   "source": []
  }
 ],
 "metadata": {
  "kernelspec": {
   "display_name": "Python 3 (ipykernel)",
   "language": "python",
   "name": "python3"
  },
  "language_info": {
   "codemirror_mode": {
    "name": "ipython",
    "version": 3
   },
   "file_extension": ".py",
   "mimetype": "text/x-python",
   "name": "python",
   "nbconvert_exporter": "python",
   "pygments_lexer": "ipython3",
   "version": "3.9.12"
  }
 },
 "nbformat": 4,
 "nbformat_minor": 5
}
