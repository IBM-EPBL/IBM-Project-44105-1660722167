{
 "cells": [
  {
   "cell_type": "markdown",
   "id": "39953fa6",
   "metadata": {},
   "source": [
    "# Team ID - PNT2022TMID18129"
   ]
  },
  {
   "cell_type": "code",
   "execution_count": 18,
   "id": "7c5210a2",
   "metadata": {},
   "outputs": [],
   "source": [
    "from tensorflow.keras.models import load_model\n",
    "from PIL import Image \n",
    "import numpy as np"
   ]
  },
  {
   "cell_type": "code",
   "execution_count": 19,
   "id": "88fbb5b8",
   "metadata": {},
   "outputs": [],
   "source": [
    "model = load_model(r'C:\\Users\\VINUPPRIYA\\models\\mnistCNN.h5')"
   ]
  },
  {
   "cell_type": "code",
   "execution_count": 24,
   "id": "2bcf294a",
   "metadata": {},
   "outputs": [],
   "source": [
    "img = Image.open(r'C:\\Users\\VINUPPRIYA\\OneDrive\\Desktop\\mnist-dataset-5.png').convert(\"L\")\n",
    "img = img.resize( (28, 28) )\n",
    "im2arr = np.array(img)\n",
    "im2arr = im2arr.reshape(1, 28, 28, 1)"
   ]
  },
  {
   "cell_type": "code",
   "execution_count": 25,
   "id": "d08fd3a6",
   "metadata": {},
   "outputs": [
    {
     "data": {
      "image/png": "[encoded data removed]",
      "text/plain": [
       "<PIL.Image.Image image mode=L size=28x28 at 0x2C23D7D92E0>"
      ]
     },
     "execution_count": 25,
     "metadata": {},
     "output_type": "execute_result"
    }
   ],
   "source": [
    "img"
   ]
  },
  {
   "cell_type": "code",
   "execution_count": 26,
   "id": "1997025e",
   "metadata": {},
   "outputs": [
    {
     "name": "stdout",
     "output_type": "stream",
     "text": [
      "1/1 [==============================] - 0s 24ms/step\n",
      "[[5.0599657e-17 7.7438300e-18 1.2412449e-21 5.9922553e-12 1.5130368e-17\n",
      "  1.0000000e+00 8.2508249e-23 1.9590003e-18 3.4609075e-16 1.6959033e-11]]\n"
     ]
    }
   ],
   "source": [
    "y_pred = model.predict(im2arr)\n",
    "print(y_pred)"
   ]
  },
  {
   "cell_type": "code",
   "execution_count": 27,
   "id": "fac0324f",
   "metadata": {},
   "outputs": [
    {
     "name": "stdout",
     "output_type": "stream",
     "text": [
      "[5]\n"
     ]
    }
   ],
   "source": [
    "import numpy as np\n",
    "print(np.argmax(y_pred, axis=1))"
   ]
  },
  {
   "cell_type": "code",
   "execution_count": null,
   "id": "a4c7774c",
   "metadata": {},
   "outputs": [],
   "source": []
  }
 ],
 "metadata": {
  "kernelspec": {
   "display_name": "Python 3 (ipykernel)",
   "language": "python",
   "name": "python3"
  },
  "language_info": {
   "codemirror_mode": {
    "name": "ipython",
    "version": 3
   },
   "file_extension": ".py",
   "mimetype": "text/x-python",
   "name": "python",
   "nbconvert_exporter": "python",
   "pygments_lexer": "ipython3",
   "version": "3.9.7"
  }
 },
 "nbformat": 4,
 "nbformat_minor": 5
}
